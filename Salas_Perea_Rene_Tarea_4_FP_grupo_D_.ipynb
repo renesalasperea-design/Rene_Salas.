{
  "nbformat": 4,
  "nbformat_minor": 0,
  "metadata": {
    "colab": {
      "provenance": [],
      "authorship_tag": "ABX9TyOjA/OBkJ214Shs7BcOPJOK",
      "include_colab_link": true
    },
    "kernelspec": {
      "name": "python3",
      "display_name": "Python 3"
    },
    "language_info": {
      "name": "python"
    }
  },
  "cells": [
    {
      "cell_type": "markdown",
      "metadata": {
        "id": "view-in-github",
        "colab_type": "text"
      },
      "source": [
        "<a href=\"https://colab.research.google.com/github/renesalasperea-design/Rene_Salas./blob/main/Salas_Perea_Rene_Tarea_4_FP_grupo_D_.ipynb\" target=\"_parent\"><img src=\"https://colab.research.google.com/assets/colab-badge.svg\" alt=\"Open In Colab\"/></a>"
      ]
    },
    {
      "cell_type": "code",
      "execution_count": 7,
      "metadata": {
        "colab": {
          "base_uri": "https://localhost:8080/"
        },
        "id": "8HBPctJrPF1o",
        "outputId": "a8335c36-3ff0-4b2a-ab71-7f994ed2ee04"
      },
      "outputs": [
        {
          "output_type": "stream",
          "name": "stdout",
          "text": [
            "Buenas Tardes profe\n",
            "Rene Salas Perea\n",
            "grupo D\n",
            "ingenieria industrial\n"
          ]
        }
      ],
      "source": [
        "print(\"Buenas Tardes profe\")\n",
        "print(\"Rene Salas Perea\")\n",
        "print(\"grupo D\")\n",
        "print(\"ingenieria industrial\")"
      ]
    }
  ]
}